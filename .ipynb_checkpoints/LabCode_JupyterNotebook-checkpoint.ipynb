{
 "cells": [
  {
   "cell_type": "markdown",
   "id": "180caf49",
   "metadata": {},
   "source": [
    "Read the three files into python as dataframes"
   ]
  },
  {
   "cell_type": "code",
   "execution_count": 1,
   "id": "1fcd22ee",
   "metadata": {},
   "outputs": [],
   "source": [
    "import pandas as pd\n",
    "\n",
    "df1 = pd.read_csv(\"/Users/suso/BootcampDA/Unit1/Labs/lab-customer-analysis-round-1/files_for_lab/csv_files/file1.csv\")\n",
    "df2 = pd.read_csv(\"/Users/suso/BootcampDA/Unit1/Labs/lab-customer-analysis-round-1/files_for_lab/csv_files/file2.csv\")\n",
    "df3 = pd.read_csv(\"/Users/suso/BootcampDA/Unit1/Labs/lab-customer-analysis-round-1/files_for_lab/csv_files/file3.csv\")"
   ]
  },
  {
   "cell_type": "markdown",
   "id": "d221c1b4",
   "metadata": {},
   "source": [
    "Show the DataFrame's shape."
   ]
  },
  {
   "cell_type": "code",
   "execution_count": 2,
   "id": "8dba8190",
   "metadata": {},
   "outputs": [
    {
     "name": "stdout",
     "output_type": "stream",
     "text": [
      "Shape of df1: (4008, 11)\n",
      "Shape of df2: (996, 11)\n",
      "Shape of df3: (7070, 11)\n"
     ]
    }
   ],
   "source": [
    "print(\"Shape of df1:\", df1.shape)\n",
    "print(\"Shape of df2:\", df2.shape)\n",
    "print(\"Shape of df3:\", df3.shape)"
   ]
  },
  {
   "cell_type": "markdown",
   "id": "b01eacc3",
   "metadata": {},
   "source": [
    "Rearrange the columns in the dataframe as needed"
   ]
  },
  {
   "cell_type": "code",
   "execution_count": 3,
   "id": "06ed2a6e",
   "metadata": {},
   "outputs": [
    {
     "name": "stdout",
     "output_type": "stream",
     "text": [
      "     CUSTOMER          ST GENDER             EDUCATION  \\\n",
      "0     RB50392  Washington    NaN                Master   \n",
      "1     QZ44356     Arizona      F              Bachelor   \n",
      "2     AI49188      Nevada      F              Bachelor   \n",
      "3     WW63253  California      M              Bachelor   \n",
      "4     GA49547  Washington      M  High School or Below   \n",
      "...       ...         ...    ...                   ...   \n",
      "4003      NaN         NaN    NaN                   NaN   \n",
      "4004      NaN         NaN    NaN                   NaN   \n",
      "4005      NaN         NaN    NaN                   NaN   \n",
      "4006      NaN         NaN    NaN                   NaN   \n",
      "4007      NaN         NaN    NaN                   NaN   \n",
      "\n",
      "     CUSTOMER_LIFETIME_VALUE   INCOME  MONTHLY_PREMIUM_AUTO  \\\n",
      "0                        NaN      0.0                1000.0   \n",
      "1                 697953.59%      0.0                  94.0   \n",
      "2                1288743.17%  48767.0                 108.0   \n",
      "3                 764586.18%      0.0                 106.0   \n",
      "4                 536307.65%  36357.0                  68.0   \n",
      "...                      ...      ...                   ...   \n",
      "4003                     NaN      NaN                   NaN   \n",
      "4004                     NaN      NaN                   NaN   \n",
      "4005                     NaN      NaN                   NaN   \n",
      "4006                     NaN      NaN                   NaN   \n",
      "4007                     NaN      NaN                   NaN   \n",
      "\n",
      "     NUMBER_OF_OPEN_COMPLAINTS     POLICY_TYPE  VEHICLE_CLASS  \\\n",
      "0                       1/0/00   Personal Auto  Four-Door Car   \n",
      "1                       1/0/00   Personal Auto  Four-Door Car   \n",
      "2                       1/0/00   Personal Auto   Two-Door Car   \n",
      "3                       1/0/00  Corporate Auto            SUV   \n",
      "4                       1/0/00   Personal Auto  Four-Door Car   \n",
      "...                        ...             ...            ...   \n",
      "4003                       NaN             NaN            NaN   \n",
      "4004                       NaN             NaN            NaN   \n",
      "4005                       NaN             NaN            NaN   \n",
      "4006                       NaN             NaN            NaN   \n",
      "4007                       NaN             NaN            NaN   \n",
      "\n",
      "      TOTAL_CLAIM_AMOUNT  \n",
      "0               2.704934  \n",
      "1            1131.464935  \n",
      "2             566.472247  \n",
      "3             529.881344  \n",
      "4              17.269323  \n",
      "...                  ...  \n",
      "4003                 NaN  \n",
      "4004                 NaN  \n",
      "4005                 NaN  \n",
      "4006                 NaN  \n",
      "4007                 NaN  \n",
      "\n",
      "[4008 rows x 11 columns]\n",
      "    CUSTOMER          ST GENDER EDUCATION CUSTOMER_LIFETIME_VALUE  INCOME  \\\n",
      "0    GS98873     Arizona      F  Bachelor              323912.47%   16061   \n",
      "1    CW49887  California      F    Master              462680.11%   79487   \n",
      "2    MY31220  California      F   College              899704.02%   54230   \n",
      "3    UH35128      Oregon      F   College             2580706.30%   71210   \n",
      "4    WH52799     Arizona      F   College              380812.21%   94903   \n",
      "..       ...         ...    ...       ...                     ...     ...   \n",
      "991  HV85198     Arizona      M    Master              847141.75%   63513   \n",
      "992  BS91566     Arizona      F   College              543121.91%   58161   \n",
      "993  IL40123      Nevada      F   College              568964.41%   83640   \n",
      "994  MY32149  California      F    Master              368672.38%       0   \n",
      "995  SA91515  California      M  Bachelor              399258.39%       0   \n",
      "\n",
      "     MONTHLY_PREMIUM_AUTO NUMBER_OF_OPEN_COMPLAINTS  TOTAL_CLAIM_AMOUNT  \\\n",
      "0                      88                    1/0/00          633.600000   \n",
      "1                     114                    1/0/00          547.200000   \n",
      "2                     112                    1/0/00          537.600000   \n",
      "3                     214                    1/1/00         1027.200000   \n",
      "4                      94                    1/0/00          451.200000   \n",
      "..                    ...                       ...                 ...   \n",
      "991                    70                    1/0/00          185.667213   \n",
      "992                    68                    1/0/00          140.747286   \n",
      "993                    70                    1/0/00          471.050488   \n",
      "994                    96                    1/0/00           28.460568   \n",
      "995                   111                    1/0/00          700.349052   \n",
      "\n",
      "        POLICY_TYPE  VEHICLE_CLASS  \n",
      "0     Personal Auto  Four-Door Car  \n",
      "1      Special Auto            SUV  \n",
      "2     Personal Auto   Two-Door Car  \n",
      "3     Personal Auto     Luxury Car  \n",
      "4    Corporate Auto   Two-Door Car  \n",
      "..              ...            ...  \n",
      "991   Personal Auto  Four-Door Car  \n",
      "992  Corporate Auto  Four-Door Car  \n",
      "993  Corporate Auto   Two-Door Car  \n",
      "994   Personal Auto   Two-Door Car  \n",
      "995   Personal Auto            SUV  \n",
      "\n",
      "[996 rows x 11 columns]\n",
      "     CUSTOMER       STATE  CUSTOMER_LIFETIME_VALUE             EDUCATION  \\\n",
      "0     SA25987  Washington              3479.137523  High School or Below   \n",
      "1     TB86706     Arizona              2502.637401                Master   \n",
      "2     ZL73902      Nevada              3265.156348              Bachelor   \n",
      "3     KX23516  California              4455.843406  High School or Below   \n",
      "4     FN77294  California              7704.958480  High School or Below   \n",
      "...       ...         ...                      ...                   ...   \n",
      "7065  LA72316  California             23405.987980              Bachelor   \n",
      "7066  PK87824  California              3096.511217               College   \n",
      "7067  TD14365  California              8163.890428              Bachelor   \n",
      "7068  UP19263  California              7524.442436               College   \n",
      "7069  Y167826  California              2611.836866               College   \n",
      "\n",
      "     GENDER  INCOME  MONTHLY_PREMIUM_AUTO  NUMBER_OF_OPEN_COMPLAINTS  \\\n",
      "0         M       0                   104                          0   \n",
      "1         M       0                    66                          0   \n",
      "2         F   25820                    82                          0   \n",
      "3         F       0                   121                          0   \n",
      "4         M   30366                   101                          2   \n",
      "...     ...     ...                   ...                        ...   \n",
      "7065      M   71941                    73                          0   \n",
      "7066      F   21604                    79                          0   \n",
      "7067      M       0                    85                          3   \n",
      "7068      M   21941                    96                          0   \n",
      "7069      M       0                    77                          0   \n",
      "\n",
      "         POLICY_TYPE  TOTAL_CLAIM_AMOUNT  VEHICLE_CLASS  \n",
      "0      Personal Auto          499.200000   Two-Door Car  \n",
      "1      Personal Auto            3.468912   Two-Door Car  \n",
      "2      Personal Auto          393.600000  Four-Door Car  \n",
      "3      Personal Auto          699.615192            SUV  \n",
      "4      Personal Auto          484.800000            SUV  \n",
      "...              ...                 ...            ...  \n",
      "7065   Personal Auto          198.234764  Four-Door Car  \n",
      "7066  Corporate Auto          379.200000  Four-Door Car  \n",
      "7067  Corporate Auto          790.784983  Four-Door Car  \n",
      "7068   Personal Auto          691.200000  Four-Door Car  \n",
      "7069  Corporate Auto          369.600000   Two-Door Car  \n",
      "\n",
      "[7070 rows x 11 columns]\n"
     ]
    }
   ],
   "source": [
    "df1.columns = df1.columns.str.upper().str.replace(\" \", \"_\")\n",
    "print(df1)\n",
    "df2.columns = df2.columns.str.upper().str.replace(\" \", \"_\")\n",
    "print(df2)\n",
    "df3.columns = df3.columns.str.upper().str.replace(\" \", \"_\")\n",
    "print(df3)"
   ]
  },
  {
   "cell_type": "markdown",
   "id": "99b4ed1a",
   "metadata": {},
   "source": [
    "Concatenate the three dataframes"
   ]
  },
  {
   "cell_type": "code",
   "execution_count": 4,
   "id": "86405e6f",
   "metadata": {},
   "outputs": [
    {
     "name": "stdout",
     "output_type": "stream",
     "text": [
      "      CUSTOMER          ST GENDER             EDUCATION  \\\n",
      "0      RB50392  Washington    NaN                Master   \n",
      "1      QZ44356     Arizona      F              Bachelor   \n",
      "2      AI49188      Nevada      F              Bachelor   \n",
      "3      WW63253  California      M              Bachelor   \n",
      "4      GA49547  Washington      M  High School or Below   \n",
      "...        ...         ...    ...                   ...   \n",
      "12069  LA72316         NaN      M              Bachelor   \n",
      "12070  PK87824         NaN      F               College   \n",
      "12071  TD14365         NaN      M              Bachelor   \n",
      "12072  UP19263         NaN      M               College   \n",
      "12073  Y167826         NaN      M               College   \n",
      "\n",
      "      CUSTOMER_LIFETIME_VALUE   INCOME  MONTHLY_PREMIUM_AUTO  \\\n",
      "0                         NaN      0.0                1000.0   \n",
      "1                  697953.59%      0.0                  94.0   \n",
      "2                 1288743.17%  48767.0                 108.0   \n",
      "3                  764586.18%      0.0                 106.0   \n",
      "4                  536307.65%  36357.0                  68.0   \n",
      "...                       ...      ...                   ...   \n",
      "12069             23405.98798  71941.0                  73.0   \n",
      "12070             3096.511217  21604.0                  79.0   \n",
      "12071             8163.890428      0.0                  85.0   \n",
      "12072             7524.442436  21941.0                  96.0   \n",
      "12073             2611.836866      0.0                  77.0   \n",
      "\n",
      "      NUMBER_OF_OPEN_COMPLAINTS     POLICY_TYPE  VEHICLE_CLASS  \\\n",
      "0                        1/0/00   Personal Auto  Four-Door Car   \n",
      "1                        1/0/00   Personal Auto  Four-Door Car   \n",
      "2                        1/0/00   Personal Auto   Two-Door Car   \n",
      "3                        1/0/00  Corporate Auto            SUV   \n",
      "4                        1/0/00   Personal Auto  Four-Door Car   \n",
      "...                         ...             ...            ...   \n",
      "12069                         0   Personal Auto  Four-Door Car   \n",
      "12070                         0  Corporate Auto  Four-Door Car   \n",
      "12071                         3  Corporate Auto  Four-Door Car   \n",
      "12072                         0   Personal Auto  Four-Door Car   \n",
      "12073                         0  Corporate Auto   Two-Door Car   \n",
      "\n",
      "       TOTAL_CLAIM_AMOUNT       STATE  \n",
      "0                2.704934         NaN  \n",
      "1             1131.464935         NaN  \n",
      "2              566.472247         NaN  \n",
      "3              529.881344         NaN  \n",
      "4               17.269323         NaN  \n",
      "...                   ...         ...  \n",
      "12069          198.234764  California  \n",
      "12070          379.200000  California  \n",
      "12071          790.784983  California  \n",
      "12072          691.200000  California  \n",
      "12073          369.600000  California  \n",
      "\n",
      "[12074 rows x 12 columns]\n"
     ]
    }
   ],
   "source": [
    "data = pd.concat([df1, df2, df3]).reset_index(drop=True)\n",
    "print(data)"
   ]
  },
  {
   "cell_type": "markdown",
   "id": "a98e941c",
   "metadata": {},
   "source": [
    "Which columns are numerical?"
   ]
  },
  {
   "cell_type": "code",
   "execution_count": 5,
   "id": "ee65a2f9",
   "metadata": {},
   "outputs": [
    {
     "data": {
      "text/plain": [
       "CUSTOMER                      object\n",
       "ST                            object\n",
       "GENDER                        object\n",
       "EDUCATION                     object\n",
       "CUSTOMER_LIFETIME_VALUE       object\n",
       "INCOME                       float64\n",
       "MONTHLY_PREMIUM_AUTO         float64\n",
       "NUMBER_OF_OPEN_COMPLAINTS     object\n",
       "POLICY_TYPE                   object\n",
       "VEHICLE_CLASS                 object\n",
       "TOTAL_CLAIM_AMOUNT           float64\n",
       "STATE                         object\n",
       "dtype: object"
      ]
     },
     "execution_count": 5,
     "metadata": {},
     "output_type": "execute_result"
    }
   ],
   "source": [
    "data.dtypes\n",
    "# income, monthly premium auto, total claim amount, customer lifetime value, number of open complaints."
   ]
  },
  {
   "cell_type": "markdown",
   "id": "f0536a52",
   "metadata": {},
   "source": [
    "Which columns are categorical?"
   ]
  },
  {
   "cell_type": "code",
   "execution_count": 6,
   "id": "91c894a4",
   "metadata": {},
   "outputs": [
    {
     "data": {
      "text/plain": [
       "CUSTOMER                      object\n",
       "ST                            object\n",
       "GENDER                        object\n",
       "EDUCATION                     object\n",
       "CUSTOMER_LIFETIME_VALUE       object\n",
       "INCOME                       float64\n",
       "MONTHLY_PREMIUM_AUTO         float64\n",
       "NUMBER_OF_OPEN_COMPLAINTS     object\n",
       "POLICY_TYPE                   object\n",
       "VEHICLE_CLASS                 object\n",
       "TOTAL_CLAIM_AMOUNT           float64\n",
       "STATE                         object\n",
       "dtype: object"
      ]
     },
     "execution_count": 6,
     "metadata": {},
     "output_type": "execute_result"
    }
   ],
   "source": [
    "data.dtypes\n",
    "# Customer, st, gender, education, policy type, vehicle class, state."
   ]
  },
  {
   "cell_type": "markdown",
   "id": "702ad038",
   "metadata": {},
   "source": [
    "Understand the meaning of all columns"
   ]
  },
  {
   "cell_type": "code",
   "execution_count": 7,
   "id": "0da6b593",
   "metadata": {},
   "outputs": [],
   "source": [
    "# Customer: ID of the customer\n",
    "# ST or STATE: Which is the customer from\n",
    "# Gender: Gender of the customer\n",
    "# Education: Maximum level of education the customer have had.\n",
    "# Customer lifetime value: The value the customer gives to his life.\n",
    "# Income: Yearly income of the customer\n",
    "# Monthly premium auto: Monthly insurance for the car.\n",
    "# Number of open complaints: Defined meaning by itself.\n",
    "# Policy type: If car is property of the customer or the company.\n",
    "# Vehicle class: Type of vehicle.\n",
    "# Total claim amount: Amount of money each customer is claiming."
   ]
  },
  {
   "cell_type": "markdown",
   "id": "2975c6ac",
   "metadata": {},
   "source": [
    "Perform the data cleaning operations mentioned so far in class"
   ]
  },
  {
   "cell_type": "markdown",
   "id": "9dde186c",
   "metadata": {},
   "source": [
    "Delete the column education and the number of open complaints from the dataframe."
   ]
  },
  {
   "cell_type": "code",
   "execution_count": 8,
   "id": "15f602ae",
   "metadata": {},
   "outputs": [],
   "source": [
    "education = \"EDUCATION\"\n",
    "del data[education]\n",
    "num_open_compl = \"NUMBER_OF_OPEN_COMPLAINTS\"\n",
    "del data[num_open_compl]"
   ]
  },
  {
   "cell_type": "markdown",
   "id": "26db2279",
   "metadata": {},
   "source": [
    "Correct the values in the column customer lifetime value. They are given as a percent, so multiply them by 100 and change dtype to numerical type."
   ]
  },
  {
   "cell_type": "code",
   "execution_count": 9,
   "id": "182f168b",
   "metadata": {},
   "outputs": [
    {
     "name": "stdout",
     "output_type": "stream",
     "text": [
      "  CUSTOMER          ST GENDER  CUSTOMER_LIFETIME_VALUE   INCOME  \\\n",
      "0  RB50392  Washington    NaN                      NaN      0.0   \n",
      "1  QZ44356     Arizona      F               69795359.0      0.0   \n",
      "2  AI49188      Nevada      F              128874317.0  48767.0   \n",
      "3  WW63253  California      M               76458618.0      0.0   \n",
      "4  GA49547  Washington      M               53630765.0  36357.0   \n",
      "\n",
      "   MONTHLY_PREMIUM_AUTO     POLICY_TYPE  VEHICLE_CLASS  TOTAL_CLAIM_AMOUNT  \\\n",
      "0                1000.0   Personal Auto  Four-Door Car            2.704934   \n",
      "1                  94.0   Personal Auto  Four-Door Car         1131.464935   \n",
      "2                 108.0   Personal Auto   Two-Door Car          566.472247   \n",
      "3                 106.0  Corporate Auto            SUV          529.881344   \n",
      "4                  68.0   Personal Auto  Four-Door Car           17.269323   \n",
      "\n",
      "  STATE  \n",
      "0   NaN  \n",
      "1   NaN  \n",
      "2   NaN  \n",
      "3   NaN  \n",
      "4   NaN  \n"
     ]
    }
   ],
   "source": [
    "cust_life_value = \"CUSTOMER_LIFETIME_VALUE\"\n",
    "data[cust_life_value] = pd.to_numeric(data[cust_life_value].str.replace('%', '')) * 100\n",
    "print(data.head())"
   ]
  },
  {
   "cell_type": "markdown",
   "id": "e97c969f",
   "metadata": {},
   "source": [
    "Check for duplicate rows in the data and remove if any."
   ]
  },
  {
   "cell_type": "code",
   "execution_count": 10,
   "id": "81c504dd",
   "metadata": {},
   "outputs": [],
   "source": [
    "duplicate_rows = data.duplicated()\n",
    "data = data.drop_duplicates()"
   ]
  },
  {
   "cell_type": "markdown",
   "id": "5d315b2e",
   "metadata": {},
   "source": [
    "Filter out the data for customers who have an income of 0 or less."
   ]
  },
  {
   "cell_type": "code",
   "execution_count": 11,
   "id": "945d5d3e",
   "metadata": {},
   "outputs": [
    {
     "name": "stdout",
     "output_type": "stream",
     "text": [
      "  CUSTOMER          ST GENDER  CUSTOMER_LIFETIME_VALUE   INCOME  \\\n",
      "0  RB50392  Washington    NaN                      NaN      0.0   \n",
      "1  QZ44356     Arizona      F               69795359.0      0.0   \n",
      "2  AI49188      Nevada      F              128874317.0  48767.0   \n",
      "3  WW63253  California      M               76458618.0      0.0   \n",
      "4  GA49547  Washington      M               53630765.0  36357.0   \n",
      "\n",
      "   MONTHLY_PREMIUM_AUTO     POLICY_TYPE  VEHICLE_CLASS  TOTAL_CLAIM_AMOUNT  \\\n",
      "0                1000.0   Personal Auto  Four-Door Car            2.704934   \n",
      "1                  94.0   Personal Auto  Four-Door Car         1131.464935   \n",
      "2                 108.0   Personal Auto   Two-Door Car          566.472247   \n",
      "3                 106.0  Corporate Auto            SUV          529.881344   \n",
      "4                  68.0   Personal Auto  Four-Door Car           17.269323   \n",
      "\n",
      "  STATE  \n",
      "0   NaN  \n",
      "1   NaN  \n",
      "2   NaN  \n",
      "3   NaN  \n",
      "4   NaN  \n"
     ]
    }
   ],
   "source": [
    "data_positive_income = data[data['INCOME'] > 0]\n",
    "print(data.head())"
   ]
  }
 ],
 "metadata": {
  "kernelspec": {
   "display_name": "Python 3 (ipykernel)",
   "language": "python",
   "name": "python3"
  },
  "language_info": {
   "codemirror_mode": {
    "name": "ipython",
    "version": 3
   },
   "file_extension": ".py",
   "mimetype": "text/x-python",
   "name": "python",
   "nbconvert_exporter": "python",
   "pygments_lexer": "ipython3",
   "version": "3.11.5"
  }
 },
 "nbformat": 4,
 "nbformat_minor": 5
}
